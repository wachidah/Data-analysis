{
 "cells": [
  {
   "cell_type": "markdown",
   "metadata": {
    "colab_type": "text",
    "id": "PafC2yoq7e8d"
   },
   "source": [
    "# **Demo: Pengolahan data gempabumi**"
   ]
  },
  {
   "cell_type": "code",
   "execution_count": 1,
   "metadata": {
    "colab": {},
    "colab_type": "code",
    "id": "Ti3jLQ9tYg6M"
   },
   "outputs": [],
   "source": [
    "import pandas as pd\n",
    "import numpy as np\n",
    "import datetime as dt\n",
    "import matplotlib.pyplot as plt\n",
    "import seaborn as sns\n",
    "import warnings\n",
    "warnings.filterwarnings(\"ignore\")"
   ]
  },
  {
   "cell_type": "markdown",
   "metadata": {},
   "source": [
    "#**Memasukkan file csv dari gempa**"
   ]
  },
  {
   "cell_type": "code",
   "execution_count": 5,
   "metadata": {
    "colab": {
     "base_uri": "https://localhost:8080/",
     "height": 204
    },
    "colab_type": "code",
    "id": "sXcOAtNbU8mn",
    "outputId": "725b9dc7-1a22-4807-da55-9eb264fdd1c8",
    "scrolled": true
   },
   "outputs": [],
   "source": [
    "df1 = pd.read_csv('Gempa-Juli-26Dec2021.csv')"
   ]
  },
  {
   "cell_type": "markdown",
   "metadata": {},
   "source": [
    "#**Filter berdasarkan nama petugas yaitu Purnama**"
   ]
  },
  {
   "cell_type": "code",
   "execution_count": 6,
   "metadata": {},
   "outputs": [],
   "source": [
    "df_pur = df1.loc[df1['Petugas'] == 'purnama']"
   ]
  },
  {
   "cell_type": "code",
   "execution_count": 7,
   "metadata": {},
   "outputs": [
    {
     "data": {
      "text/html": [
       "<div>\n",
       "<style scoped>\n",
       "    .dataframe tbody tr th:only-of-type {\n",
       "        vertical-align: middle;\n",
       "    }\n",
       "\n",
       "    .dataframe tbody tr th {\n",
       "        vertical-align: top;\n",
       "    }\n",
       "\n",
       "    .dataframe thead th {\n",
       "        text-align: right;\n",
       "    }\n",
       "</style>\n",
       "<table border=\"1\" class=\"dataframe\">\n",
       "  <thead>\n",
       "    <tr style=\"text-align: right;\">\n",
       "      <th></th>\n",
       "      <th>Tanggal</th>\n",
       "      <th>Origin (UTC)</th>\n",
       "      <th>Lintang</th>\n",
       "      <th>Bujur</th>\n",
       "      <th>Magnitudo</th>\n",
       "      <th>Depth</th>\n",
       "      <th>Ket</th>\n",
       "      <th>Terasa</th>\n",
       "      <th>Dampak</th>\n",
       "      <th>Sumber</th>\n",
       "      <th>Petugas</th>\n",
       "      <th>Created</th>\n",
       "      <th>Updated</th>\n",
       "      <th>Actions</th>\n",
       "    </tr>\n",
       "  </thead>\n",
       "  <tbody>\n",
       "    <tr>\n",
       "      <th>6</th>\n",
       "      <td>02-07-2021</td>\n",
       "      <td>17:46:47.8</td>\n",
       "      <td>-3.16</td>\n",
       "      <td>135.22</td>\n",
       "      <td>3.6</td>\n",
       "      <td>10</td>\n",
       "      <td>71 km BaratLaut NABIRE-PAPUA</td>\n",
       "      <td>tidak</td>\n",
       "      <td>NaN</td>\n",
       "      <td>angkasa</td>\n",
       "      <td>purnama</td>\n",
       "      <td>NaN</td>\n",
       "      <td>2021-07-02 17:59:04</td>\n",
       "      <td>Press Release \\t  \\t\\t  \\t\\t\\t  \\t\\t  \\t\\t \\t ...</td>\n",
       "    </tr>\n",
       "    <tr>\n",
       "      <th>7</th>\n",
       "      <td>02-07-2021</td>\n",
       "      <td>18:16:52.8</td>\n",
       "      <td>-3.16</td>\n",
       "      <td>135.22</td>\n",
       "      <td>3.1</td>\n",
       "      <td>10</td>\n",
       "      <td>71 km BaratLaut NABIRE-PAPUA</td>\n",
       "      <td>tidak</td>\n",
       "      <td>NaN</td>\n",
       "      <td>angkasa</td>\n",
       "      <td>purnama</td>\n",
       "      <td>NaN</td>\n",
       "      <td>2021-07-02 18:34:52</td>\n",
       "      <td>Press Release \\t  \\t\\t  \\t\\t\\t  \\t\\t  \\t\\t \\t ...</td>\n",
       "    </tr>\n",
       "    <tr>\n",
       "      <th>15</th>\n",
       "      <td>06-07-2021</td>\n",
       "      <td>01:06:49.7</td>\n",
       "      <td>-1.58</td>\n",
       "      <td>134.27</td>\n",
       "      <td>3.6</td>\n",
       "      <td>29</td>\n",
       "      <td>16 km Tenggara RANSIKI-PAPUABRT</td>\n",
       "      <td>dirasakan</td>\n",
       "      <td>dirasakan II MMI di Ransiki</td>\n",
       "      <td>angkasa</td>\n",
       "      <td>purnama</td>\n",
       "      <td>NaN</td>\n",
       "      <td>2021-07-06 04:25:47</td>\n",
       "      <td>Press Release \\t  \\t\\t  \\t\\t\\t  \\t\\t  \\t\\t \\t ...</td>\n",
       "    </tr>\n",
       "    <tr>\n",
       "      <th>16</th>\n",
       "      <td>06-07-2021</td>\n",
       "      <td>00:48:22.0</td>\n",
       "      <td>-4.23</td>\n",
       "      <td>133.84</td>\n",
       "      <td>3.0</td>\n",
       "      <td>10</td>\n",
       "      <td>105 km BaratDaya KAIMANA-PAPUABRT</td>\n",
       "      <td>tidak</td>\n",
       "      <td>NaN</td>\n",
       "      <td>pgr v</td>\n",
       "      <td>purnama</td>\n",
       "      <td>2021-07-06 01:23:17</td>\n",
       "      <td>2021-07-06 01:23:30</td>\n",
       "      <td>Press Release \\t  \\t\\t  \\t\\t\\t  \\t\\t  \\t\\t \\t ...</td>\n",
       "    </tr>\n",
       "    <tr>\n",
       "      <th>17</th>\n",
       "      <td>06-07-2021</td>\n",
       "      <td>02:19:41.2</td>\n",
       "      <td>-2.04</td>\n",
       "      <td>140.79</td>\n",
       "      <td>3.1</td>\n",
       "      <td>10</td>\n",
       "      <td>62 km TimurLaut KOTA-JAYAPURA-PAPUA</td>\n",
       "      <td>tidak</td>\n",
       "      <td>NaN</td>\n",
       "      <td>angkasa</td>\n",
       "      <td>purnama</td>\n",
       "      <td>NaN</td>\n",
       "      <td>2021-07-06 04:25:57</td>\n",
       "      <td>Press Release \\t  \\t\\t  \\t\\t\\t  \\t\\t  \\t\\t \\t ...</td>\n",
       "    </tr>\n",
       "  </tbody>\n",
       "</table>\n",
       "</div>"
      ],
      "text/plain": [
       "       Tanggal Origin (UTC)  Lintang   Bujur  Magnitudo  Depth  \\\n",
       "6   02-07-2021   17:46:47.8    -3.16  135.22        3.6     10   \n",
       "7   02-07-2021   18:16:52.8    -3.16  135.22        3.1     10   \n",
       "15  06-07-2021   01:06:49.7    -1.58  134.27        3.6     29   \n",
       "16  06-07-2021   00:48:22.0    -4.23  133.84        3.0     10   \n",
       "17  06-07-2021   02:19:41.2    -2.04  140.79        3.1     10   \n",
       "\n",
       "                                    Ket     Terasa  \\\n",
       "6          71 km BaratLaut NABIRE-PAPUA      tidak   \n",
       "7          71 km BaratLaut NABIRE-PAPUA      tidak   \n",
       "15      16 km Tenggara RANSIKI-PAPUABRT  dirasakan   \n",
       "16    105 km BaratDaya KAIMANA-PAPUABRT      tidak   \n",
       "17  62 km TimurLaut KOTA-JAYAPURA-PAPUA      tidak   \n",
       "\n",
       "                         Dampak   Sumber  Petugas              Created  \\\n",
       "6                           NaN  angkasa  purnama                  NaN   \n",
       "7                           NaN  angkasa  purnama                  NaN   \n",
       "15  dirasakan II MMI di Ransiki  angkasa  purnama                  NaN   \n",
       "16                          NaN    pgr v  purnama  2021-07-06 01:23:17   \n",
       "17                          NaN  angkasa  purnama                  NaN   \n",
       "\n",
       "                Updated                                            Actions  \n",
       "6   2021-07-02 17:59:04  Press Release \\t  \\t\\t  \\t\\t\\t  \\t\\t  \\t\\t \\t ...  \n",
       "7   2021-07-02 18:34:52  Press Release \\t  \\t\\t  \\t\\t\\t  \\t\\t  \\t\\t \\t ...  \n",
       "15  2021-07-06 04:25:47  Press Release \\t  \\t\\t  \\t\\t\\t  \\t\\t  \\t\\t \\t ...  \n",
       "16  2021-07-06 01:23:30  Press Release \\t  \\t\\t  \\t\\t\\t  \\t\\t  \\t\\t \\t ...  \n",
       "17  2021-07-06 04:25:57  Press Release \\t  \\t\\t  \\t\\t\\t  \\t\\t  \\t\\t \\t ...  "
      ]
     },
     "execution_count": 7,
     "metadata": {},
     "output_type": "execute_result"
    }
   ],
   "source": [
    "df_pur.head()"
   ]
  },
  {
   "cell_type": "markdown",
   "metadata": {
    "colab_type": "text",
    "id": "9Q59i0BZefVv"
   },
   "source": [
    "#**Drop beberapa kolom dan urutkan berdasarkan tanggal lalu ambil data dari bulan tertentu semisal bulan Juli maka ketik 7**"
   ]
  },
  {
   "cell_type": "code",
   "execution_count": 8,
   "metadata": {
    "colab": {
     "base_uri": "https://localhost:8080/",
     "height": 204
    },
    "colab_type": "code",
    "id": "K1XTbY66f6VE",
    "outputId": "15aefe00-f190-42ba-c95a-53de792b3358"
   },
   "outputs": [],
   "source": [
    "data = df_pur.drop(columns=['Created', 'Updated', 'Petugas', 'Dampak', 'Actions', 'Sumber'])"
   ]
  },
  {
   "cell_type": "code",
   "execution_count": 9,
   "metadata": {},
   "outputs": [
    {
     "data": {
      "text/html": [
       "<div>\n",
       "<style scoped>\n",
       "    .dataframe tbody tr th:only-of-type {\n",
       "        vertical-align: middle;\n",
       "    }\n",
       "\n",
       "    .dataframe tbody tr th {\n",
       "        vertical-align: top;\n",
       "    }\n",
       "\n",
       "    .dataframe thead th {\n",
       "        text-align: right;\n",
       "    }\n",
       "</style>\n",
       "<table border=\"1\" class=\"dataframe\">\n",
       "  <thead>\n",
       "    <tr style=\"text-align: right;\">\n",
       "      <th></th>\n",
       "      <th>Tanggal</th>\n",
       "      <th>Origin (UTC)</th>\n",
       "      <th>Lintang</th>\n",
       "      <th>Bujur</th>\n",
       "      <th>Magnitudo</th>\n",
       "      <th>Depth</th>\n",
       "      <th>Ket</th>\n",
       "      <th>Terasa</th>\n",
       "    </tr>\n",
       "  </thead>\n",
       "  <tbody>\n",
       "    <tr>\n",
       "      <th>610</th>\n",
       "      <td>01-11-2021</td>\n",
       "      <td>13:41:30.2</td>\n",
       "      <td>-0.72</td>\n",
       "      <td>131.25</td>\n",
       "      <td>3.6</td>\n",
       "      <td>10</td>\n",
       "      <td>19 km BaratLaut KOTA-SORONG-PAPUABRT</td>\n",
       "      <td>dirasakan</td>\n",
       "    </tr>\n",
       "    <tr>\n",
       "      <th>6</th>\n",
       "      <td>02-07-2021</td>\n",
       "      <td>17:46:47.8</td>\n",
       "      <td>-3.16</td>\n",
       "      <td>135.22</td>\n",
       "      <td>3.6</td>\n",
       "      <td>10</td>\n",
       "      <td>71 km BaratLaut NABIRE-PAPUA</td>\n",
       "      <td>tidak</td>\n",
       "    </tr>\n",
       "    <tr>\n",
       "      <th>7</th>\n",
       "      <td>02-07-2021</td>\n",
       "      <td>18:16:52.8</td>\n",
       "      <td>-3.16</td>\n",
       "      <td>135.22</td>\n",
       "      <td>3.1</td>\n",
       "      <td>10</td>\n",
       "      <td>71 km BaratLaut NABIRE-PAPUA</td>\n",
       "      <td>tidak</td>\n",
       "    </tr>\n",
       "    <tr>\n",
       "      <th>613</th>\n",
       "      <td>02-11-2021</td>\n",
       "      <td>08:39:00.0</td>\n",
       "      <td>-1.74</td>\n",
       "      <td>133.03</td>\n",
       "      <td>2.6</td>\n",
       "      <td>10</td>\n",
       "      <td>67 km BaratLaut TELUKBINTUNI-PAPUABRT</td>\n",
       "      <td>tidak</td>\n",
       "    </tr>\n",
       "    <tr>\n",
       "      <th>611</th>\n",
       "      <td>02-11-2021</td>\n",
       "      <td>01:47:03.5</td>\n",
       "      <td>-2.67</td>\n",
       "      <td>140.56</td>\n",
       "      <td>2.3</td>\n",
       "      <td>10</td>\n",
       "      <td>13 km BaratDaya KOTA-JAYAPURA-PAPUA</td>\n",
       "      <td>tidak</td>\n",
       "    </tr>\n",
       "  </tbody>\n",
       "</table>\n",
       "</div>"
      ],
      "text/plain": [
       "        Tanggal Origin (UTC)  Lintang   Bujur  Magnitudo  Depth  \\\n",
       "610  01-11-2021   13:41:30.2    -0.72  131.25        3.6     10   \n",
       "6    02-07-2021   17:46:47.8    -3.16  135.22        3.6     10   \n",
       "7    02-07-2021   18:16:52.8    -3.16  135.22        3.1     10   \n",
       "613  02-11-2021   08:39:00.0    -1.74  133.03        2.6     10   \n",
       "611  02-11-2021   01:47:03.5    -2.67  140.56        2.3     10   \n",
       "\n",
       "                                       Ket     Terasa  \n",
       "610   19 km BaratLaut KOTA-SORONG-PAPUABRT  dirasakan  \n",
       "6             71 km BaratLaut NABIRE-PAPUA      tidak  \n",
       "7             71 km BaratLaut NABIRE-PAPUA      tidak  \n",
       "613  67 km BaratLaut TELUKBINTUNI-PAPUABRT      tidak  \n",
       "611    13 km BaratDaya KOTA-JAYAPURA-PAPUA      tidak  "
      ]
     },
     "execution_count": 9,
     "metadata": {},
     "output_type": "execute_result"
    }
   ],
   "source": [
    "data= data.sort_values(by = 'Tanggal')\n",
    "data.head()"
   ]
  },
  {
   "cell_type": "code",
   "execution_count": 10,
   "metadata": {},
   "outputs": [
    {
     "data": {
      "text/plain": [
       "610   2021-11-01\n",
       "6     2021-07-02\n",
       "7     2021-07-02\n",
       "613   2021-11-02\n",
       "611   2021-11-02\n",
       "         ...    \n",
       "335   2021-08-30\n",
       "709   2021-11-30\n",
       "710   2021-11-30\n",
       "138   2021-07-31\n",
       "137   2021-07-31\n",
       "Name: Tanggal, Length: 242, dtype: datetime64[ns]"
      ]
     },
     "execution_count": 10,
     "metadata": {},
     "output_type": "execute_result"
    }
   ],
   "source": [
    "pd.to_datetime( data['Tanggal'], format='%d-%m-%Y', errors='coerce', dayfirst=True)"
   ]
  },
  {
   "cell_type": "code",
   "execution_count": 11,
   "metadata": {
    "colab": {
     "base_uri": "https://localhost:8080/",
     "height": 68
    },
    "colab_type": "code",
    "id": "HhzU_smuhtJE",
    "outputId": "57c94430-b529-4856-b383-c09e334eb8e3"
   },
   "outputs": [],
   "source": [
    "import datetime as dt\n",
    "data['Tanggal'] = pd.to_datetime(data['Tanggal'], format='%d-%m-%Y', dayfirst=True)\n",
    "\n",
    "#data['month'] = data['Tanggal'].dt.month"
   ]
  },
  {
   "cell_type": "code",
   "execution_count": 12,
   "metadata": {},
   "outputs": [],
   "source": [
    "#menambah kolom data bulan \n",
    "\n",
    "data['month'] = data['Tanggal'].dt.month"
   ]
  },
  {
   "cell_type": "code",
   "execution_count": 13,
   "metadata": {},
   "outputs": [],
   "source": [
    "#Mengambil data bulan Juli\n",
    "#Jika mengambil data seluruh bulan, maka bagian ini tidak perlu di running\n",
    "data = data.loc[data['month'] == 7]"
   ]
  },
  {
   "cell_type": "code",
   "execution_count": 14,
   "metadata": {},
   "outputs": [
    {
     "data": {
      "text/html": [
       "<div>\n",
       "<style scoped>\n",
       "    .dataframe tbody tr th:only-of-type {\n",
       "        vertical-align: middle;\n",
       "    }\n",
       "\n",
       "    .dataframe tbody tr th {\n",
       "        vertical-align: top;\n",
       "    }\n",
       "\n",
       "    .dataframe thead th {\n",
       "        text-align: right;\n",
       "    }\n",
       "</style>\n",
       "<table border=\"1\" class=\"dataframe\">\n",
       "  <thead>\n",
       "    <tr style=\"text-align: right;\">\n",
       "      <th></th>\n",
       "      <th>Tanggal</th>\n",
       "      <th>Origin (UTC)</th>\n",
       "      <th>Lintang</th>\n",
       "      <th>Bujur</th>\n",
       "      <th>Magnitudo</th>\n",
       "      <th>Depth</th>\n",
       "      <th>Ket</th>\n",
       "      <th>Terasa</th>\n",
       "      <th>month</th>\n",
       "    </tr>\n",
       "  </thead>\n",
       "  <tbody>\n",
       "    <tr>\n",
       "      <th>6</th>\n",
       "      <td>2021-07-02</td>\n",
       "      <td>17:46:47.8</td>\n",
       "      <td>-3.16</td>\n",
       "      <td>135.22</td>\n",
       "      <td>3.6</td>\n",
       "      <td>10</td>\n",
       "      <td>71 km BaratLaut NABIRE-PAPUA</td>\n",
       "      <td>tidak</td>\n",
       "      <td>7</td>\n",
       "    </tr>\n",
       "    <tr>\n",
       "      <th>7</th>\n",
       "      <td>2021-07-02</td>\n",
       "      <td>18:16:52.8</td>\n",
       "      <td>-3.16</td>\n",
       "      <td>135.22</td>\n",
       "      <td>3.1</td>\n",
       "      <td>10</td>\n",
       "      <td>71 km BaratLaut NABIRE-PAPUA</td>\n",
       "      <td>tidak</td>\n",
       "      <td>7</td>\n",
       "    </tr>\n",
       "    <tr>\n",
       "      <th>19</th>\n",
       "      <td>2021-07-06</td>\n",
       "      <td>07:47:19.4</td>\n",
       "      <td>-2.18</td>\n",
       "      <td>140.40</td>\n",
       "      <td>3.1</td>\n",
       "      <td>10</td>\n",
       "      <td>45 km BaratLaut KAB-JAYAPURA-PAPUA</td>\n",
       "      <td>tidak</td>\n",
       "      <td>7</td>\n",
       "    </tr>\n",
       "    <tr>\n",
       "      <th>18</th>\n",
       "      <td>2021-07-06</td>\n",
       "      <td>04:11:00.1</td>\n",
       "      <td>-3.76</td>\n",
       "      <td>133.57</td>\n",
       "      <td>2.9</td>\n",
       "      <td>10</td>\n",
       "      <td>67 km BaratDaya KAIMANA-PAPUABRT</td>\n",
       "      <td>tidak</td>\n",
       "      <td>7</td>\n",
       "    </tr>\n",
       "    <tr>\n",
       "      <th>17</th>\n",
       "      <td>2021-07-06</td>\n",
       "      <td>02:19:41.2</td>\n",
       "      <td>-2.04</td>\n",
       "      <td>140.79</td>\n",
       "      <td>3.1</td>\n",
       "      <td>10</td>\n",
       "      <td>62 km TimurLaut KOTA-JAYAPURA-PAPUA</td>\n",
       "      <td>tidak</td>\n",
       "      <td>7</td>\n",
       "    </tr>\n",
       "  </tbody>\n",
       "</table>\n",
       "</div>"
      ],
      "text/plain": [
       "      Tanggal Origin (UTC)  Lintang   Bujur  Magnitudo  Depth  \\\n",
       "6  2021-07-02   17:46:47.8    -3.16  135.22        3.6     10   \n",
       "7  2021-07-02   18:16:52.8    -3.16  135.22        3.1     10   \n",
       "19 2021-07-06   07:47:19.4    -2.18  140.40        3.1     10   \n",
       "18 2021-07-06   04:11:00.1    -3.76  133.57        2.9     10   \n",
       "17 2021-07-06   02:19:41.2    -2.04  140.79        3.1     10   \n",
       "\n",
       "                                    Ket Terasa  month  \n",
       "6          71 km BaratLaut NABIRE-PAPUA  tidak      7  \n",
       "7          71 km BaratLaut NABIRE-PAPUA  tidak      7  \n",
       "19   45 km BaratLaut KAB-JAYAPURA-PAPUA  tidak      7  \n",
       "18     67 km BaratDaya KAIMANA-PAPUABRT  tidak      7  \n",
       "17  62 km TimurLaut KOTA-JAYAPURA-PAPUA  tidak      7  "
      ]
     },
     "execution_count": 14,
     "metadata": {},
     "output_type": "execute_result"
    }
   ],
   "source": [
    "data.head()"
   ]
  },
  {
   "cell_type": "code",
   "execution_count": 15,
   "metadata": {},
   "outputs": [
    {
     "name": "stdout",
     "output_type": "stream",
     "text": [
      "<class 'pandas.core.frame.DataFrame'>\n",
      "Int64Index: 32 entries, 6 to 137\n",
      "Data columns (total 9 columns):\n",
      " #   Column        Non-Null Count  Dtype         \n",
      "---  ------        --------------  -----         \n",
      " 0   Tanggal       32 non-null     datetime64[ns]\n",
      " 1   Origin (UTC)  32 non-null     object        \n",
      " 2   Lintang       32 non-null     float64       \n",
      " 3   Bujur         32 non-null     float64       \n",
      " 4   Magnitudo     32 non-null     float64       \n",
      " 5   Depth         32 non-null     int64         \n",
      " 6   Ket           32 non-null     object        \n",
      " 7   Terasa        32 non-null     object        \n",
      " 8   month         32 non-null     int64         \n",
      "dtypes: datetime64[ns](1), float64(3), int64(2), object(3)\n",
      "memory usage: 2.5+ KB\n"
     ]
    }
   ],
   "source": [
    "data.info()"
   ]
  },
  {
   "cell_type": "code",
   "execution_count": 16,
   "metadata": {},
   "outputs": [
    {
     "data": {
      "text/html": [
       "<div>\n",
       "<style scoped>\n",
       "    .dataframe tbody tr th:only-of-type {\n",
       "        vertical-align: middle;\n",
       "    }\n",
       "\n",
       "    .dataframe tbody tr th {\n",
       "        vertical-align: top;\n",
       "    }\n",
       "\n",
       "    .dataframe thead th {\n",
       "        text-align: right;\n",
       "    }\n",
       "</style>\n",
       "<table border=\"1\" class=\"dataframe\">\n",
       "  <thead>\n",
       "    <tr style=\"text-align: right;\">\n",
       "      <th></th>\n",
       "      <th>Tanggal</th>\n",
       "      <th>Origin (UTC)</th>\n",
       "      <th>Lintang</th>\n",
       "      <th>Bujur</th>\n",
       "      <th>Magnitudo</th>\n",
       "      <th>Depth</th>\n",
       "      <th>Ket</th>\n",
       "      <th>Terasa</th>\n",
       "      <th>month</th>\n",
       "    </tr>\n",
       "  </thead>\n",
       "  <tbody>\n",
       "    <tr>\n",
       "      <th>6</th>\n",
       "      <td>2021-07-02</td>\n",
       "      <td>17:46:47.8</td>\n",
       "      <td>-3.16</td>\n",
       "      <td>135.22</td>\n",
       "      <td>3.6</td>\n",
       "      <td>10</td>\n",
       "      <td>71 km BaratLaut NABIRE-PAPUA</td>\n",
       "      <td>tidak</td>\n",
       "      <td>7</td>\n",
       "    </tr>\n",
       "    <tr>\n",
       "      <th>7</th>\n",
       "      <td>2021-07-02</td>\n",
       "      <td>18:16:52.8</td>\n",
       "      <td>-3.16</td>\n",
       "      <td>135.22</td>\n",
       "      <td>3.1</td>\n",
       "      <td>10</td>\n",
       "      <td>71 km BaratLaut NABIRE-PAPUA</td>\n",
       "      <td>tidak</td>\n",
       "      <td>7</td>\n",
       "    </tr>\n",
       "    <tr>\n",
       "      <th>19</th>\n",
       "      <td>2021-07-06</td>\n",
       "      <td>07:47:19.4</td>\n",
       "      <td>-2.18</td>\n",
       "      <td>140.40</td>\n",
       "      <td>3.1</td>\n",
       "      <td>10</td>\n",
       "      <td>45 km BaratLaut KAB-JAYAPURA-PAPUA</td>\n",
       "      <td>tidak</td>\n",
       "      <td>7</td>\n",
       "    </tr>\n",
       "    <tr>\n",
       "      <th>18</th>\n",
       "      <td>2021-07-06</td>\n",
       "      <td>04:11:00.1</td>\n",
       "      <td>-3.76</td>\n",
       "      <td>133.57</td>\n",
       "      <td>2.9</td>\n",
       "      <td>10</td>\n",
       "      <td>67 km BaratDaya KAIMANA-PAPUABRT</td>\n",
       "      <td>tidak</td>\n",
       "      <td>7</td>\n",
       "    </tr>\n",
       "    <tr>\n",
       "      <th>17</th>\n",
       "      <td>2021-07-06</td>\n",
       "      <td>02:19:41.2</td>\n",
       "      <td>-2.04</td>\n",
       "      <td>140.79</td>\n",
       "      <td>3.1</td>\n",
       "      <td>10</td>\n",
       "      <td>62 km TimurLaut KOTA-JAYAPURA-PAPUA</td>\n",
       "      <td>tidak</td>\n",
       "      <td>7</td>\n",
       "    </tr>\n",
       "  </tbody>\n",
       "</table>\n",
       "</div>"
      ],
      "text/plain": [
       "      Tanggal Origin (UTC)  Lintang   Bujur  Magnitudo  Depth  \\\n",
       "6  2021-07-02   17:46:47.8    -3.16  135.22        3.6     10   \n",
       "7  2021-07-02   18:16:52.8    -3.16  135.22        3.1     10   \n",
       "19 2021-07-06   07:47:19.4    -2.18  140.40        3.1     10   \n",
       "18 2021-07-06   04:11:00.1    -3.76  133.57        2.9     10   \n",
       "17 2021-07-06   02:19:41.2    -2.04  140.79        3.1     10   \n",
       "\n",
       "                                    Ket Terasa  month  \n",
       "6          71 km BaratLaut NABIRE-PAPUA  tidak      7  \n",
       "7          71 km BaratLaut NABIRE-PAPUA  tidak      7  \n",
       "19   45 km BaratLaut KAB-JAYAPURA-PAPUA  tidak      7  \n",
       "18     67 km BaratDaya KAIMANA-PAPUABRT  tidak      7  \n",
       "17  62 km TimurLaut KOTA-JAYAPURA-PAPUA  tidak      7  "
      ]
     },
     "execution_count": 16,
     "metadata": {},
     "output_type": "execute_result"
    }
   ],
   "source": [
    "#urutkan berdasarkan tanggal\n",
    "data= data.sort_values(by = 'Tanggal')\n",
    "data.head()"
   ]
  },
  {
   "cell_type": "markdown",
   "metadata": {},
   "source": [
    "#**Membuat tampilan histogram pada data**"
   ]
  },
  {
   "cell_type": "code",
   "execution_count": null,
   "metadata": {},
   "outputs": [],
   "source": [
    "data.hist(column = [\"Lintang\",  \"Bujur\", \"Magnitudo\", \"Depth\"], bins=10, figsize = (9, 12))"
   ]
  },
  {
   "cell_type": "code",
   "execution_count": null,
   "metadata": {},
   "outputs": [],
   "source": [
    "interval_magnitude = [1,2,3,4,5,6]\n",
    "label = ['1-2','2-3','3-4','4-5','5-6']\n",
    "data['interval_magnitude'] = pd.cut(data['Magnitudo'], bins=interval_magnitude, labels=label)\n",
    "plt.rcParams['figure.figsize'] = [10, 5]\n",
    "interval_magnitude = pd.crosstab(data.interval_magnitude,data.Terasa,normalize='index')\n",
    "interval_magnitude.plot.bar(stacked=True)\n",
    "plt.legend(title='Dampak',loc='upper left',bbox_to_anchor=(1, 0.5))"
   ]
  },
  {
   "cell_type": "code",
   "execution_count": null,
   "metadata": {},
   "outputs": [],
   "source": [
    "interval_depth = [10, 20, 30, 40, 50, 60, 70, 80, 90, 100, 110, 120, 130, 140, 150]\n",
    "label = ['10-20','20-30','30-40','40-50','50-60', '60-70', '70-80', '80-90', '90-100', '100-110', '110-120', '120-130', '130-140', '140-150']\n",
    "data['interval_depth'] = pd.cut(data['Depth'], bins=interval_depth, labels=label)\n",
    "plt.rcParams['figure.figsize'] = [10, 5]\n",
    "interval_depth = pd.crosstab(data.interval_depth, data.Terasa,normalize='index')\n",
    "interval_depth.plot.bar(stacked=True)\n",
    "plt.legend(title='Dampak',loc='upper left',bbox_to_anchor=(1, 0.5))"
   ]
  },
  {
   "cell_type": "markdown",
   "metadata": {},
   "source": [
    "###**Filter data berdasarkan besar magnitudo dan kedalaman (depth) untuk divisualisasikan dan dianalisis**"
   ]
  },
  {
   "cell_type": "code",
   "execution_count": null,
   "metadata": {},
   "outputs": [],
   "source": [
    "#Filter data gempa dengan magnitudo < 3\n",
    "\n",
    "df_3M = data.loc[(data['Magnitudo'] < 3)]\n",
    "df_3M.head()"
   ]
  },
  {
   "cell_type": "code",
   "execution_count": null,
   "metadata": {
    "colab": {
     "base_uri": "https://localhost:8080/",
     "height": 297
    },
    "colab_type": "code",
    "id": "ogybIM_fertD",
    "outputId": "2b65e6bd-69aa-4141-c61c-3aea0d5785f9"
   },
   "outputs": [],
   "source": [
    "#Filter data gempa dengan magnitudo >= 3 dan <=5\n",
    "\n",
    "df_3M5 = data.loc[(data['Magnitudo'] >= 3) & (data['Magnitudo'] <=5)]\n",
    "df_3M5.head()"
   ]
  },
  {
   "cell_type": "code",
   "execution_count": null,
   "metadata": {},
   "outputs": [],
   "source": [
    "#Filter data gempa dengan magnitudo > 5\n",
    "\n",
    "df_M5 = data.loc[(data['Magnitudo'] > 5)]\n",
    "df_M5.head()"
   ]
  },
  {
   "cell_type": "code",
   "execution_count": null,
   "metadata": {},
   "outputs": [],
   "source": [
    "#Menghitung jumlah gempa dengan magnitudo < 3\n",
    "\n",
    "count_df3m=len(df_3M[\"Magnitudo\"])\n",
    "print(count_df3m)"
   ]
  },
  {
   "cell_type": "code",
   "execution_count": null,
   "metadata": {},
   "outputs": [],
   "source": [
    "#Menghitung jumlah gempa dengan magnitudo >= 3 dan >= 5\n",
    "\n",
    "count_df3m5=len(df_3M5[\"Magnitudo\"])\n",
    "print(count_df3m5)"
   ]
  },
  {
   "cell_type": "code",
   "execution_count": null,
   "metadata": {},
   "outputs": [],
   "source": [
    "#Menghitung jumlah gempa dengan magnitudo > 5\n",
    "\n",
    "count_dfm5=len(df_M5[\"Magnitudo\"])\n",
    "print(count_dfm5)"
   ]
  },
  {
   "cell_type": "code",
   "execution_count": null,
   "metadata": {},
   "outputs": [],
   "source": [
    "#Membuat kolom untuk tabel baru hasil pengelompokkan berdasarkan besar magnitudo\n",
    "\n",
    "new_columns = ['M<3', '3<=M<=5', 'M>5']\n",
    "new_values = [count_df3m, count_df3m5, count_dfm5]\n",
    "list_tuples = list(zip(new_columns, new_values))  \n",
    "print(list_tuples)  \n"
   ]
  },
  {
   "cell_type": "code",
   "execution_count": null,
   "metadata": {},
   "outputs": [],
   "source": [
    "#Membuat tabel dari kolom yang telah dibuat\n",
    "\n",
    "dframe = pd.DataFrame(list_tuples, columns=['Magnitude', 'Counts'])\n",
    "print(dframe)"
   ]
  },
  {
   "cell_type": "code",
   "execution_count": null,
   "metadata": {},
   "outputs": [],
   "source": []
  },
  {
   "cell_type": "code",
   "execution_count": null,
   "metadata": {},
   "outputs": [],
   "source": [
    "#menampilkan grafik hasil pengolahan magnitudo dari bulan Juli-Desember 2021 berdasarkan besar magnitudo\n",
    "\n",
    "sns.barplot(x = 'Magnitude',y = 'Counts',data = dframe)\n",
    "plt.savefig('gempa-juli-magnitude-2021.png')\n",
    "im = Image.open('gempa-juli-magnitude-2021.png')\n",
    "rgb_im = im.convert('RGB')\n",
    "rgb_im.save('gempa-juli-magnitude-2021.jpg')"
   ]
  },
  {
   "cell_type": "code",
   "execution_count": null,
   "metadata": {},
   "outputs": [],
   "source": [
    "#Filter data gempa dengan kedalaman (Depth) yaitu untuk Depth < 70, 70<= Depth <=300, dan Depth >300\n",
    "\n",
    "df_7D = data.loc[(data['Depth'] < 70)]\n",
    "df_7D3 = data.loc[(data['Depth'] >= 70) & (data['Depth'] <=300)]\n",
    "df_D3 = data.loc[(data['Depth'] > 300)]"
   ]
  },
  {
   "cell_type": "code",
   "execution_count": null,
   "metadata": {},
   "outputs": [],
   "source": [
    "#Menghitung jumlah gempa berdasarkan kedalaman (Depth) yaitu untuk Depth < 70, 70<= Depth <=300, dan Depth >300\n",
    "\n",
    "count_df7d=len(df_7D[\"Depth\"])\n",
    "count_df7d3=len(df_7D3[\"Depth\"])\n",
    "count_dfd3=len(df_D3[\"Depth\"])"
   ]
  },
  {
   "cell_type": "code",
   "execution_count": null,
   "metadata": {},
   "outputs": [],
   "source": [
    "#Membuat kolom untuk tabel baru berdasarkan pengelompokkan kedalaman gempa\n",
    "\n",
    "cols = ['D<70', '70<=D<=300', 'D>300']\n",
    "vals = [count_df7d, count_df7d3, count_dfd3]\n",
    "tupl = list(zip(cols, vals))  \n",
    "print(tupl)  "
   ]
  },
  {
   "cell_type": "code",
   "execution_count": null,
   "metadata": {},
   "outputs": [],
   "source": [
    "#Membuat tabel baru berdasarkan kedalaman gempa\n",
    "\n",
    "dframe1 = pd.DataFrame(tupl, columns=['Depth', 'Counts'])\n",
    "print(dframe1)"
   ]
  },
  {
   "cell_type": "code",
   "execution_count": null,
   "metadata": {},
   "outputs": [],
   "source": [
    "#Menyimpan semua tabel di dalam file excel yang dipisah-pisahkan per sheet\n",
    "\n",
    "with pd.ExcelWriter('quake-juli2021.xlsx') as writer:\n",
    "    dframe.to_excel(writer, sheet_name='magnitude')\n",
    "    dframe1.to_excel(writer, sheet_name='depth')"
   ]
  },
  {
   "cell_type": "code",
   "execution_count": null,
   "metadata": {},
   "outputs": [],
   "source": [
    "#Menampilkan grafik kejadian gempabumi berdasarkan kedalamannya\n",
    "\n",
    "sns.barplot(x = 'Depth',y = 'Counts',data = dframe1)\n",
    "plt.savefig('gempa-juli-depth-2021.png')\n",
    "im = Image.open('gempa-juli-depth-2021.png')\n",
    "rgb_im = im.convert('RGB')\n",
    "rgb_im.save('gempa-juli-depth-2021.jpg')"
   ]
  }
 ],
 "metadata": {
  "colab": {
   "collapsed_sections": [],
   "name": "Demo_K_Means_Clustering_Using_Python.ipynb",
   "provenance": []
  },
  "kernelspec": {
   "display_name": "Python 3",
   "language": "python",
   "name": "python3"
  },
  "language_info": {
   "codemirror_mode": {
    "name": "ipython",
    "version": 3
   },
   "file_extension": ".py",
   "mimetype": "text/x-python",
   "name": "python",
   "nbconvert_exporter": "python",
   "pygments_lexer": "ipython3",
   "version": "3.8.5"
  }
 },
 "nbformat": 4,
 "nbformat_minor": 1
}
